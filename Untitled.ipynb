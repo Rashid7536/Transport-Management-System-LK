{
 "cells": [
  {
   "cell_type": "code",
   "execution_count": 1,
   "id": "61f15285-a34e-45be-8e6d-ddceaa134739",
   "metadata": {},
   "outputs": [
    {
     "name": "stdout",
     "output_type": "stream",
     "text": [
      "Requirement already satisfied: geopy in c:\\python27\\lib\\site-packages (1.23.0)\n",
      "Requirement already satisfied: geographiclib<2,>=1.49 in c:\\python27\\lib\\site-packages (from geopy) (1.52)\n"
     ]
    },
    {
     "name": "stderr",
     "output_type": "stream",
     "text": [
      "DEPRECATION: Python 2.7 will reach the end of its life on January 1st, 2020. Please upgrade your Python as Python 2.7 won't be maintained after that date. A future version of pip will drop support for Python 2.7. More details about Python 2 support in pip, can be found at https://pip.pypa.io/en/latest/development/release-process/#python-2-support\n",
      "WARNING: You are using pip version 19.2.3, however version 20.3.4 is available.\n",
      "You should consider upgrading via the 'python -m pip install --upgrade pip' command.\n"
     ]
    },
    {
     "ename": "ModuleNotFoundError",
     "evalue": "No module named 'geopy'",
     "output_type": "error",
     "traceback": [
      "\u001b[1;31m---------------------------------------------------------------------------\u001b[0m",
      "\u001b[1;31mModuleNotFoundError\u001b[0m                       Traceback (most recent call last)",
      "Cell \u001b[1;32mIn[1], line 3\u001b[0m\n\u001b[0;32m      1\u001b[0m get_ipython()\u001b[38;5;241m.\u001b[39msystem(\u001b[38;5;124m'\u001b[39m\u001b[38;5;124mpip install geopy\u001b[39m\u001b[38;5;124m'\u001b[39m)\n\u001b[0;32m      2\u001b[0m \u001b[38;5;28;01mimport\u001b[39;00m \u001b[38;5;21;01mpandas\u001b[39;00m \u001b[38;5;28;01mas\u001b[39;00m \u001b[38;5;21;01mpd\u001b[39;00m\n\u001b[1;32m----> 3\u001b[0m \u001b[38;5;28;01mfrom\u001b[39;00m \u001b[38;5;21;01mgeopy\u001b[39;00m\u001b[38;5;21;01m.\u001b[39;00m\u001b[38;5;21;01mdistance\u001b[39;00m \u001b[38;5;28;01mimport\u001b[39;00m geodesic\n\u001b[0;32m      4\u001b[0m \u001b[38;5;28;01mfrom\u001b[39;00m \u001b[38;5;21;01mcollections\u001b[39;00m \u001b[38;5;28;01mimport\u001b[39;00m defaultdict\n\u001b[0;32m      6\u001b[0m \u001b[38;5;66;03m# Load the dataset\u001b[39;00m\n",
      "\u001b[1;31mModuleNotFoundError\u001b[0m: No module named 'geopy'"
     ]
    }
   ],
   "source": [
    "!pip install geopy\n",
    "import pandas as pd\n",
    "from geopy.distance import geodesic\n",
    "from collections import defaultdict\n",
    "\n",
    "# Load the dataset\n",
    "data = {\n",
    "    'id': [1, 2, 3, 4, 5, 6, 7, 8, 9, 10, 11, 12, 13, 14],\n",
    "    'Name': ['Unnamed', 'Unnamed', 'Unnamed', 'Unnamed', 'Unnamed', 'Matugama Central Bus Stand', 'Town Hall', 'Unnamed', 'Opposite Hathamuna', 'Mattegoda', 'Pelawatte', 'Borella', 'Gunasinghepura Bus Stop', 'Fort Bus Stop'],\n",
    "    'Latitude': [5.9415934, 5.9412602, 5.9431798, 6.8817697, 6.0665976, 6.5222269, 6.7200733, 6.7083614, 6.8164138, 6.8114091, 6.8905073, 6.9153814, 6.9371283, 6.93398],\n",
    "    'Longitude': [80.5120061, 80.4677373, 80.5044167, 79.90118, 80.7316935, 80.1147664, 79.9076091, 79.9079462, 79.9825208, 79.9752145, 79.9288928, 79.8778049, 79.8556206, 79.850319]\n",
    "}\n",
    "\n",
    "df = pd.DataFrame(data)\n",
    "# Separate named and unnamed bus stands\n",
    "unnamed_stands = df[df['Name'] == 'Unnamed']\n",
    "named_stands = df[df['Name'] != 'Unnamed']\n",
    "\n",
    "def find_nearest_place(lat, lon, named_stands):\n",
    "    nearest_place = None\n",
    "    min_distance = float('inf')\n",
    "    for _, place in named_stands.iterrows():\n",
    "        distance = geodesic((lat, lon), (place['Latitude'], place['Longitude'])).kilometers\n",
    "        if distance < min_distance:\n",
    "            min_distance = distance\n",
    "            nearest_place = place['Name']\n",
    "    return nearest_place\n",
    "\n",
    "unnamed_stands['NearestPlace'] = unnamed_stands.apply(lambda row: find_nearest_place(row['Latitude'], row['Longitude'], named_stands), axis=1)\n",
    "\n",
    "# Group bus stands by nearest place\n",
    "grouped_stands = defaultdict(list)\n",
    "for _, row in unnamed_stands.iterrows():\n",
    "    grouped_stands[row['NearestPlace']].append(row)\n",
    "\n",
    "# Name and number the bus stands\n",
    "named_bus_stands = []\n",
    "for place, stands in grouped_stands.items():\n",
    "    for i, stand in enumerate(stands, start=1):\n",
    "        stand_name = f\"{place} Bus Stand {i}\"\n",
    "        named_bus_stands.append({\n",
    "            'id': stand['id'],\n",
    "            'Name': stand_name,\n",
    "            'Latitude': stand['Latitude'],\n",
    "            'Longitude': stand['Longitude']\n",
    "        })\n",
    "\n",
    "# Add named bus stands back to the original named stands\n",
    "for _, row in named_stands.iterrows():\n",
    "    named_bus_stands.append({\n",
    "        'id': row['id'],\n",
    "        'Name': row['Name'],\n",
    "        'Latitude': row['Latitude'],\n",
    "        'Longitude': row['Longitude']\n",
    "    })\n",
    "\n",
    "# Convert to DataFrame for better visualization\n",
    "final_df = pd.DataFrame(named_bus_stands)\n",
    "print(final_df)\n"
   ]
  },
  {
   "cell_type": "code",
   "execution_count": null,
   "id": "0b7489f8-c109-47c0-82c2-396c7c9b6883",
   "metadata": {},
   "outputs": [],
   "source": []
  }
 ],
 "metadata": {
  "kernelspec": {
   "display_name": "Python 3 (ipykernel)",
   "language": "python",
   "name": "python3"
  },
  "language_info": {
   "codemirror_mode": {
    "name": "ipython",
    "version": 3
   },
   "file_extension": ".py",
   "mimetype": "text/x-python",
   "name": "python",
   "nbconvert_exporter": "python",
   "pygments_lexer": "ipython3",
   "version": "3.12.2"
  }
 },
 "nbformat": 4,
 "nbformat_minor": 5
}
